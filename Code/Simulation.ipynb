{
 "cells": [
  {
   "cell_type": "code",
   "execution_count": 366,
   "metadata": {},
   "outputs": [],
   "source": [
    "import numpy as np\n",
    "import matplotlib.pyplot as plt\n",
    "import scipy.stats as st\n",
    "import time\n",
    "import datetime\n",
    "import seaborn as sns\n",
    "import pandas as pd\n",
    "import time\n",
    "import markdown\n",
    "savedate = str(datetime.datetime.now())\n",
    "t = time.time()\n",
    "# Disable certain pandas warning\n",
    "pd.options.mode.chained_assignment = None  # default='warn'"
   ]
  },
  {
   "cell_type": "markdown",
   "metadata": {},
   "source": [
    "# Simulation"
   ]
  },
  {
   "cell_type": "markdown",
   "metadata": {},
   "source": [
    "Bayesian update of braking force expected value for known $\\sigma$ according to:\n",
    "\n",
    "\\begin{equation} E(\\mu' | x) = \\frac{\\sigma^2 \\mu + \\sigma_0^2 x}{\\sigma^2 + \\sigma_0^2} \\end{equation}\n",
    "\n",
    "\\begin{equation} Var(\\mu' | x) = \\frac{\\sigma \\sigma_0}{\\sigma^2 + \\sigma_0^2} \\end{equation}\n",
    "\n",
    "As an addition, an alertness factor reflecting the variation introduced by the train sets, is used."
   ]
  },
  {
   "cell_type": "code",
   "execution_count": 405,
   "metadata": {},
   "outputs": [
    {
     "name": "stdout",
     "output_type": "stream",
     "text": [
      "RMS:  8016.49068657\n",
      "CPU times: user 8.3 s, sys: 55.1 ms, total: 8.36 s\n",
      "Wall time: 8.46 s\n"
     ]
    }
   ],
   "source": [
    "%%time\n",
    "np.random.seed(42)\n",
    "# Train data\n",
    "NWagonsFleet = 100\n",
    "NWagonsTrain = 20\n",
    "M = 100 #Trains assembled\n",
    "N = 10 #Brakings observed per Train\n",
    "\n",
    "# Faulty wagon number and associated brake force percentage\n",
    "nfault = []\n",
    "pfault = 0\n",
    "\n",
    "# Wagon data \n",
    "# Mass full loaded\n",
    "mass = 90000\n",
    "# Brake pad friction\n",
    "mu = 0.20\n",
    "# Brake rigging efficiency\n",
    "eta = 0.81\n",
    "# Nominal pad braking force\n",
    "bfNom = 4.8800000e+05\n",
    "# Resulting retardation force\n",
    "rBF = bfNom*eta*mu\n",
    "# Standard deviation of retardation force\n",
    "sdBF = 0.05*rBF\n",
    "# Measurement noise SD\n",
    "sdnoisec = 0.1\n",
    "sdnoise = sdnoisec*rBF\n",
    "# Alertness factor lambda\n",
    "alertness = 5\n",
    "\n",
    "# Populate train fleet\n",
    "fleet = {'Mass': np.random.uniform(low = .9*mass, high = mass, size = NWagonsFleet),\n",
    "         'Sigma_true': sdBF*np.ones(NWagonsFleet),\n",
    "         'Sigma_est': 10*sdBF*np.ones(NWagonsFleet),\n",
    "         'Sigma_prio': 10*sdBF*np.ones(NWagonsFleet),\n",
    "         'n': np.zeros(NWagonsFleet)}\n",
    "Fleet = pd.DataFrame(data = fleet)\n",
    "Fleet['BF_true'] = np.random.normal(loc = rBF, scale = sdBF, size = NWagonsFleet)\n",
    "Fleet['BF_est'] = np.random.normal(loc = .5*rBF, scale = sdBF, size = NWagonsFleet)\n",
    "Fleet['BF_prio'] = Fleet['BF_est']\n",
    "Train_error = []\n",
    "Fleet_error = []\n",
    "\n",
    "if n:\n",
    "    Fleet.loc[nfault, 'BF_true'] = pfault*Fleet.loc[nfault, 'BF_true']\n",
    "\n",
    "\n",
    "for i in range(0, M):\n",
    "    # Build a train, randomly from fleet\n",
    "    WagonsSelected = np.random.choice(range(0, NWagonsFleet), size =  NWagonsTrain, replace = False)\n",
    "    Train = Fleet.iloc[WagonsSelected]\n",
    "    # Brake N times\n",
    "    for i in range(0, N):\n",
    "        # Observed Deceleration, each wagon observes identical deceleration\n",
    "        Train['a_obs'] = Train['BF_true'].sum()/Train['Mass'].sum()*(1+np.random.normal(0, sdnoisec, NWagonsTrain)) # Measurement noise\n",
    "        # Observed braking force from this deceleration\n",
    "        Train['BF_obs'] = Train['a_obs']*Train['Mass']\n",
    "        # Update belief\n",
    "        Train['Sigma_est'] = alertness*np.sqrt((sdnoise**2*Train['Sigma_est']**2)/(sdnoise**2+Train['Sigma_est']**2))\n",
    "        Train['BF_est'] = (Fleet['BF_prio']*sdnoise**2+Train['BF_obs']*Train['Sigma_est']**2)/(sdnoise**2+Train['Sigma_est']**2)\n",
    "        # Save the current error level\n",
    "        Train_error.append((Train['BF_true'] - Train['BF_est']).mean())\n",
    "        Fleet_error.append((Fleet['BF_true'] - Fleet['BF_est']).mean() )\n",
    "        # Swap data to fleet DB\n",
    "        Fleet.loc[Train.index, 'BF_est'] = Train['BF_est']\n",
    "        Fleet.loc[Train.index, 'Sigma_est'] = Train['Sigma_est']\n",
    "        Fleet.loc[Train.index, 'n'] += 1\n",
    "        #print(Fleet['BF_est'].mean())\n",
    "error = Fleet['BF_true'] - Fleet['BF_est']\n",
    "print('RMS: ', np.sqrt((error**2).mean()))"
   ]
  },
  {
   "cell_type": "markdown",
   "metadata": {},
   "source": [
    "# Plotting\n",
    "\n",
    "The estimated vs. true braking forces of the fleet are plotted as well as the error on train and fleet level."
   ]
  },
  {
   "cell_type": "code",
   "execution_count": 417,
   "metadata": {},
   "outputs": [
    {
     "ename": "AttributeError",
     "evalue": "'AxesSubplot' object has no attribute 'ylabel'",
     "output_type": "error",
     "traceback": [
      "\u001b[0;31m---------------------------------------------------------------------------\u001b[0m",
      "\u001b[0;31mAttributeError\u001b[0m                            Traceback (most recent call last)",
      "\u001b[0;32m<ipython-input-417-c7e6d9fc2dc9>\u001b[0m in \u001b[0;36m<module>\u001b[0;34m()\u001b[0m\n\u001b[1;32m      3\u001b[0m \u001b[0mFleet\u001b[0m\u001b[0;34m.\u001b[0m\u001b[0mplot\u001b[0m\u001b[0;34m(\u001b[0m\u001b[0mkind\u001b[0m \u001b[0;34m=\u001b[0m \u001b[0;34m'line'\u001b[0m\u001b[0;34m,\u001b[0m \u001b[0my\u001b[0m \u001b[0;34m=\u001b[0m \u001b[0;34m'BF_true'\u001b[0m\u001b[0;34m,\u001b[0m \u001b[0max\u001b[0m \u001b[0;34m=\u001b[0m \u001b[0maxarr\u001b[0m\u001b[0;34m[\u001b[0m\u001b[0;36m0\u001b[0m\u001b[0;34m]\u001b[0m\u001b[0;34m,\u001b[0m \u001b[0mlabel\u001b[0m \u001b[0;34m=\u001b[0m \u001b[0;34m'$F_{true}$'\u001b[0m\u001b[0;34m)\u001b[0m\u001b[0;34m\u001b[0m\u001b[0m\n\u001b[1;32m      4\u001b[0m \u001b[0mFleet\u001b[0m\u001b[0;34m.\u001b[0m\u001b[0mplot\u001b[0m\u001b[0;34m(\u001b[0m\u001b[0mkind\u001b[0m \u001b[0;34m=\u001b[0m \u001b[0;34m'line'\u001b[0m\u001b[0;34m,\u001b[0m \u001b[0my\u001b[0m \u001b[0;34m=\u001b[0m \u001b[0;34m'BF_est'\u001b[0m\u001b[0;34m,\u001b[0m \u001b[0max\u001b[0m \u001b[0;34m=\u001b[0m \u001b[0maxarr\u001b[0m\u001b[0;34m[\u001b[0m\u001b[0;36m0\u001b[0m\u001b[0;34m]\u001b[0m\u001b[0;34m,\u001b[0m \u001b[0mlabel\u001b[0m \u001b[0;34m=\u001b[0m \u001b[0;34m'$F_{est.}$'\u001b[0m\u001b[0;34m)\u001b[0m\u001b[0;34m\u001b[0m\u001b[0m\n\u001b[0;32m----> 5\u001b[0;31m \u001b[0maxarr\u001b[0m\u001b[0;34m[\u001b[0m\u001b[0;36m0\u001b[0m\u001b[0;34m]\u001b[0m\u001b[0;34m.\u001b[0m\u001b[0mylabel\u001b[0m\u001b[0;34m(\u001b[0m\u001b[0;34m'$F$/N'\u001b[0m\u001b[0;34m)\u001b[0m\u001b[0;34m\u001b[0m\u001b[0m\n\u001b[0m\u001b[1;32m      6\u001b[0m \u001b[0maxarr\u001b[0m\u001b[0;34m[\u001b[0m\u001b[0;36m0\u001b[0m\u001b[0;34m]\u001b[0m\u001b[0;34m.\u001b[0m\u001b[0mlegend\u001b[0m\u001b[0;34m(\u001b[0m\u001b[0mloc\u001b[0m \u001b[0;34m=\u001b[0m \u001b[0;36m1\u001b[0m\u001b[0;34m)\u001b[0m\u001b[0;34m\u001b[0m\u001b[0m\n\u001b[1;32m      7\u001b[0m \u001b[0maxarr\u001b[0m\u001b[0;34m[\u001b[0m\u001b[0;36m0\u001b[0m\u001b[0;34m]\u001b[0m\u001b[0;34m.\u001b[0m\u001b[0mset_title\u001b[0m\u001b[0;34m(\u001b[0m\u001b[0;34m'Estimated vs. true $F_b$'\u001b[0m\u001b[0;34m)\u001b[0m\u001b[0;34m\u001b[0m\u001b[0m\n",
      "\u001b[0;31mAttributeError\u001b[0m: 'AxesSubplot' object has no attribute 'ylabel'"
     ]
    },
    {
     "data": {
      "image/png": "[encoded data removed]",
      "text/plain": [
       "<Figure size 432x288 with 2 Axes>"
      ]
     },
     "metadata": {},
     "output_type": "display_data"
    }
   ],
   "source": [
    "sns.set()\n",
    "f, axarr = plt.subplots(2, sharex=True, gridspec_kw = {'height_ratios':[3, 1]})\n",
    "Fleet.plot(kind = 'line', y = 'BF_true', ax = axarr[0], label = '$F_{true}$')\n",
    "Fleet.plot(kind = 'line', y = 'BF_est', ax = axarr[0], label = '$F_{est.}$')\n",
    "axarr[0].setylabel('$F$/N')\n",
    "axarr[0].legend(loc = 1)\n",
    "axarr[0].set_title('Estimated vs. true $F_b$')\n",
    "Fleet.plot(kind = 'line', y = 'n', ax = axarr[1], label = '$n$')\n",
    "axarr[1].legend(loc = 1)\n",
    "plt.xlabel('Wagon number')\n",
    "\n",
    "f2, axarr2 = plt.subplots(1)\n",
    "plt.plot(Train_error, label = '$E_{train}$')\n",
    "plt.plot(Fleet_error, label = '$E_{fleet}$')\n",
    "axarr2.legend(loc = 1)\n",
    "axarr2.set_title('Error on train and fleet level')\n",
    "mute = plt.xlabel('Iteration')"
   ]
  },
  {
   "cell_type": "code",
   "execution_count": 407,
   "metadata": {},
   "outputs": [],
   "source": [
    "#Saving data and figure\n",
    "Fleet.to_json('190119_TrainSim.json')\n",
    "f.savefig(\"FleetEstimate.pdf\", bbox_inches='tight')\n",
    "f2.savefig(\"Errors.pdf\", bbox_inches='tight')"
   ]
  },
  {
   "cell_type": "code",
   "execution_count": 404,
   "metadata": {},
   "outputs": [
    {
     "data": {
      "text/html": [
       "<div>\n",
       "<style scoped>\n",
       "    .dataframe tbody tr th:only-of-type {\n",
       "        vertical-align: middle;\n",
       "    }\n",
       "\n",
       "    .dataframe tbody tr th {\n",
       "        vertical-align: top;\n",
       "    }\n",
       "\n",
       "    .dataframe thead th {\n",
       "        text-align: right;\n",
       "    }\n",
       "</style>\n",
       "<table border=\"1\" class=\"dataframe\">\n",
       "  <thead>\n",
       "    <tr style=\"text-align: right;\">\n",
       "      <th></th>\n",
       "      <th>Mass</th>\n",
       "      <th>Sigma_est</th>\n",
       "      <th>Sigma_prio</th>\n",
       "      <th>Sigma_true</th>\n",
       "      <th>n</th>\n",
       "      <th>BF_true</th>\n",
       "      <th>BF_est</th>\n",
       "      <th>BF_prio</th>\n",
       "      <th>a_obs</th>\n",
       "      <th>BF_obs</th>\n",
       "    </tr>\n",
       "  </thead>\n",
       "  <tbody>\n",
       "    <tr>\n",
       "      <th>42</th>\n",
       "      <td>81309.496690</td>\n",
       "      <td>38729.372221</td>\n",
       "      <td>39528.0</td>\n",
       "      <td>3952.8</td>\n",
       "      <td>230.0</td>\n",
       "      <td>83573.350021</td>\n",
       "      <td>89197.649951</td>\n",
       "      <td>37609.454968</td>\n",
       "      <td>1.123450</td>\n",
       "      <td>91347.158075</td>\n",
       "    </tr>\n",
       "    <tr>\n",
       "      <th>77</th>\n",
       "      <td>81666.401866</td>\n",
       "      <td>38729.372221</td>\n",
       "      <td>39528.0</td>\n",
       "      <td>3952.8</td>\n",
       "      <td>110.0</td>\n",
       "      <td>79974.052414</td>\n",
       "      <td>76441.805661</td>\n",
       "      <td>43609.128682</td>\n",
       "      <td>0.952777</td>\n",
       "      <td>77809.833869</td>\n",
       "    </tr>\n",
       "    <tr>\n",
       "      <th>2</th>\n",
       "      <td>87587.945476</td>\n",
       "      <td>38729.372221</td>\n",
       "      <td>39528.0</td>\n",
       "      <td>3952.8</td>\n",
       "      <td>190.0</td>\n",
       "      <td>79418.711997</td>\n",
       "      <td>72957.519707</td>\n",
       "      <td>38481.864470</td>\n",
       "      <td>0.849364</td>\n",
       "      <td>74394.005342</td>\n",
       "    </tr>\n",
       "    <tr>\n",
       "      <th>16</th>\n",
       "      <td>83738.180187</td>\n",
       "      <td>38729.372221</td>\n",
       "      <td>39528.0</td>\n",
       "      <td>3952.8</td>\n",
       "      <td>120.0</td>\n",
       "      <td>76280.924531</td>\n",
       "      <td>76807.658573</td>\n",
       "      <td>40374.269752</td>\n",
       "      <td>0.935364</td>\n",
       "      <td>78325.716441</td>\n",
       "    </tr>\n",
       "    <tr>\n",
       "      <th>51</th>\n",
       "      <td>87976.195410</td>\n",
       "      <td>38729.372221</td>\n",
       "      <td>39528.0</td>\n",
       "      <td>3952.8</td>\n",
       "      <td>200.0</td>\n",
       "      <td>76817.538334</td>\n",
       "      <td>76707.992847</td>\n",
       "      <td>35267.890442</td>\n",
       "      <td>0.891544</td>\n",
       "      <td>78434.663781</td>\n",
       "    </tr>\n",
       "  </tbody>\n",
       "</table>\n",
       "</div>"
      ],
      "text/plain": [
       "            Mass     Sigma_est  Sigma_prio  Sigma_true      n       BF_true  \\\n",
       "42  81309.496690  38729.372221     39528.0      3952.8  230.0  83573.350021   \n",
       "77  81666.401866  38729.372221     39528.0      3952.8  110.0  79974.052414   \n",
       "2   87587.945476  38729.372221     39528.0      3952.8  190.0  79418.711997   \n",
       "16  83738.180187  38729.372221     39528.0      3952.8  120.0  76280.924531   \n",
       "51  87976.195410  38729.372221     39528.0      3952.8  200.0  76817.538334   \n",
       "\n",
       "          BF_est       BF_prio     a_obs        BF_obs  \n",
       "42  89197.649951  37609.454968  1.123450  91347.158075  \n",
       "77  76441.805661  43609.128682  0.952777  77809.833869  \n",
       "2   72957.519707  38481.864470  0.849364  74394.005342  \n",
       "16  76807.658573  40374.269752  0.935364  78325.716441  \n",
       "51  76707.992847  35267.890442  0.891544  78434.663781  "
      ]
     },
     "execution_count": 404,
     "metadata": {},
     "output_type": "execute_result"
    }
   ],
   "source": [
    "Train.head()"
   ]
  }
 ],
 "metadata": {
  "kernelspec": {
   "display_name": "Python 3",
   "language": "python",
   "name": "python3"
  },
  "language_info": {
   "codemirror_mode": {
    "name": "ipython",
    "version": 3
   },
   "file_extension": ".py",
   "mimetype": "text/x-python",
   "name": "python",
   "nbconvert_exporter": "python",
   "pygments_lexer": "ipython3",
   "version": "3.5.4"
  }
 },
 "nbformat": 4,
 "nbformat_minor": 2
}
